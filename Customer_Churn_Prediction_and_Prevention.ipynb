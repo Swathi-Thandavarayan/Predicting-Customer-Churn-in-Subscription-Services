{
  "nbformat": 4,
  "nbformat_minor": 0,
  "metadata": {
    "colab": {
      "provenance": [],
      "authorship_tag": "ABX9TyOFuHraIIrtkEdwg6pzen+e",
      "include_colab_link": true
    },
    "kernelspec": {
      "name": "python3",
      "display_name": "Python 3"
    },
    "language_info": {
      "name": "python"
    }
  },
  "cells": [
    {
      "cell_type": "markdown",
      "metadata": {
        "id": "view-in-github",
        "colab_type": "text"
      },
      "source": [
        "<a href=\"https://colab.research.google.com/github/Swathi-Thandavarayan/Predicting-Customer-Churn-in-Subscription-Services/blob/main/Customer_Churn_Prediction_and_Prevention.ipynb\" target=\"_parent\"><img src=\"https://colab.research.google.com/assets/colab-badge.svg\" alt=\"Open In Colab\"/></a>"
      ]
    },
    {
      "cell_type": "markdown",
      "source": [
        "#Customer Churn Prediction and Prevention\n",
        "\n",
        "Customer churn is defined as when customers or subscribers discontinue doing business with a firm or service.\n",
        "\n",
        "Customers in the telecom industry can choose from a variety of service providers and actively switch from one to the next"
      ],
      "metadata": {
        "id": "v_ApWfRkyqBd"
      }
    },
    {
      "cell_type": "code",
      "execution_count": null,
      "metadata": {
        "id": "qFOoLH_HykBI"
      },
      "outputs": [],
      "source": []
    }
  ]
}